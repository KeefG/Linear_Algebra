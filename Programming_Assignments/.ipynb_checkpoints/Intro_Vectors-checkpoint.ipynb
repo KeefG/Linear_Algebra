{
 "cells": [
  {
   "cell_type": "markdown",
   "id": "fc127740-1000-42ca-8611-df1019875466",
   "metadata": {},
   "source": [
    "# Assignment"
   ]
  },
  {
   "cell_type": "markdown",
   "id": "2b87b30c-9dfe-4504-a645-9d65c524a0b5",
   "metadata": {},
   "source": [
    "1. Let $u = (1,-2,4)$ and $v = (3,5,1)$ $w = (2,1,-3)$ find:"
   ]
  },
  {
   "cell_type": "markdown",
   "id": "d1af5b35-6200-48e5-b0bd-75faa35336e9",
   "metadata": {},
   "source": [
    "# Manual Solution"
   ]
  },
  {
   "cell_type": "markdown",
   "id": "54bda889-de58-4158-9f8c-33d08ff2937d",
   "metadata": {},
   "source": [
    "   a. $3u - 2v$\n",
    "\n",
    "   &emsp;$= 3[1,-2,4] - 2[3,5,1]$<br>\n",
    "&emsp;$= [3,-6,12] - [6,10,2]$<br>\n",
    "&emsp;$= [-3,-16,10]$"
   ]
  },
  {
   "cell_type": "markdown",
   "id": "6ad27984-6fff-4b12-b6e5-39ab7e4213e3",
   "metadata": {},
   "source": [
    "b. $5u + 3v - 4w$\n",
    "\n",
    "&emsp;$= 5[1,-2,4] + 3[3,5,1] + 4[2,1,-3]$ <br>\n",
    "&emsp;$= [5,-10,20] + [9,15,3] + [8,4,-12]$<br>\n",
    "&emsp;$= [22,9.11]$"
   ]
  },
  {
   "cell_type": "markdown",
   "id": "819e6e86-b6bb-4c76-a844-8eb94ffee5c7",
   "metadata": {},
   "source": [
    "c. $u \\cdot v, v \\cdot w, u \\cdot w$\n",
    "\n",
    "&emsp;$u \\cdot v = 1(2)+-2(1)+4(-3) = -8$<br>\n",
    "&emsp;$v \\cdot w = 3(2)+5(1)+1(-3) = 9$<br>\n",
    "&emsp;$u \\cdot w = 1(2)-2(1)+4(-3) = -12$"
   ]
  },
  {
   "cell_type": "markdown",
   "id": "011a1901-110e-4bf8-a636-c26d670ea0ce",
   "metadata": {},
   "source": [
    "   d. $||\\textbf{u}||,||\\textbf{v}||, ||\\textbf{w}||$"
   ]
  },
  {
   "cell_type": "markdown",
   "id": "0df3bb85-ea9e-45dc-95e5-bea1255fceff",
   "metadata": {},
   "source": [
    "&emsp;$||\\textbf{u}|| = \\sqrt{(1)^{2}+(-2)^{2}+(4)^{2}} = \\sqrt{21}$<br>\n",
    "&emsp;$||\\textbf{v}|| = \\sqrt{(3)^{2}+(5)^{2}+(1)^{2}} = \\sqrt{35}$<br>\n",
    "&emsp;$||\\textbf{w}|| = \\sqrt{(2)^{2}+(1)^{2}+(-3)^{2}} = \\sqrt{14}$<br>"
   ]
  },
  {
   "cell_type": "markdown",
   "id": "749d9850-5add-440b-a0da-0081feb5f25f",
   "metadata": {},
   "source": [
    "   e. if $\\theta$ is the angle between $\\textbf{u}$ and $\\textbf{v}$, find $cos$ $\\theta$."
   ]
  },
  {
   "cell_type": "markdown",
   "id": "0c615dbc-e197-4f0d-8832-fb2da2cbd52f",
   "metadata": {},
   "source": [
    " &emsp;$cos\\theta = \\frac{1(3)-2(5)+4(1)}{\\sqrt{(1)^{2}+(-2)^{2}+(4)^{2}}\\sqrt{(3)^{2}+(5)^{2}+(1)^{2}}} = \\frac{-3}{\\sqrt{21} \\sqrt{35}}$"
   ]
  },
  {
   "cell_type": "markdown",
   "id": "2cd06da2-8d68-4cde-8e55-5d5846053fbe",
   "metadata": {},
   "source": [
    "f. if $\\alpha$ is the angle between $\\textbf{v}$ and $\\textbf{w}$, find $cos$ $\\alpha$."
   ]
  },
  {
   "cell_type": "markdown",
   "id": "a2fa338f-1987-4f48-9ec6-1cdd782c478b",
   "metadata": {},
   "source": [
    "&emsp;$ cos\\alpha = \\frac{3(2)+5(1)+1(-3)}{\\sqrt{(3)^{2}+(5)^{2}+(1)^{2}}\\sqrt{(2)^{2}+(1)^{2}+(-3)^{2}}} = \\frac{8}{\\sqrt{35} \\sqrt{14}}$"
   ]
  },
  {
   "cell_type": "markdown",
   "id": "666e8f9b-355b-4992-be9b-365189dc76a3",
   "metadata": {},
   "source": [
    "g. if $\\beta$ is the angle between $\\textbf{u}$ and $\\textbf{w}$, find $cos$ $\\beta$."
   ]
  },
  {
   "cell_type": "markdown",
   "id": "9dc4135a-075a-4891-a914-6ca80ff6c540",
   "metadata": {},
   "source": [
    "&emsp;$ cos\\theta = \\frac{1(2)-2(1)+4(-3)}{\\sqrt{(1)^{2}+(-2)^{2}+(4)^{2}}\\sqrt{(2)^{2}+(1)^{2}+(-3)^{2}}} = \\frac{-12}{\\sqrt{21} \\sqrt{14}}$"
   ]
  },
  {
   "cell_type": "markdown",
   "id": "7b4dc6ca-f469-427f-99d7-65c6a364baf9",
   "metadata": {},
   "source": [
    "h. Find $d(\\textbf{u},\\textbf{v})$."
   ]
  },
  {
   "cell_type": "markdown",
   "id": "cef6a442-634e-4b43-80cb-a2b8292d1dd1",
   "metadata": {},
   "source": [
    "&emsp;$d(\\textbf{u},\\textbf{v}) = ||\\textbf{u}-\\textbf{v}|| = \\sqrt{(1-3)^{2}+(-2-5)^{2}+(4-1)^{2}} = \\sqrt{4+49+9} = \\sqrt{62}$"
   ]
  },
  {
   "cell_type": "markdown",
   "id": "d5ccf44b-92b4-4d57-beb1-7d902c4d153b",
   "metadata": {},
   "source": [
    "i. Find $d(\\textbf{w},\\textbf{v})$."
   ]
  },
  {
   "cell_type": "markdown",
   "id": "2090debd-c44e-470a-b74d-6ef362bfe5da",
   "metadata": {},
   "source": [
    "&emsp;$d(\\textbf{w},\\textbf{v}) = ||\\textbf{w}-\\textbf{v}|| = \\sqrt{(2-3)^{2}+(1-5)^{2}+(-3-1)^{2}} = \\sqrt{1+16+16} = \\sqrt{33}$"
   ]
  },
  {
   "cell_type": "markdown",
   "id": "783b7062-9644-4361-a395-31fd15cef6a7",
   "metadata": {},
   "source": [
    "j. Find $d(\\textbf{u},\\textbf{w})$."
   ]
  },
  {
   "cell_type": "markdown",
   "id": "c19bda16-846d-46cb-8d73-69486a99c2d2",
   "metadata": {},
   "source": [
    "&emsp;$d(\\textbf{u},\\textbf{w}) = ||\\textbf{u}-\\textbf{w}|| = \\sqrt{(1-2)^{2}+(-2-1)^{2}+(4+3)^{2}} = \\sqrt{1+9+49} = \\sqrt{59}$"
   ]
  },
  {
   "cell_type": "markdown",
   "id": "4a8f74bf-b9db-40bf-8d3a-bc1adadec5c0",
   "metadata": {},
   "source": [
    "k. Find $proj(\\textbf{u},\\textbf{v})$."
   ]
  },
  {
   "cell_type": "markdown",
   "id": "131c6a04-899b-4028-afa9-60e485c8fe9f",
   "metadata": {},
   "source": [
    "&emsp;$ proj(\\textbf{u},\\textbf{v}) = \\frac{\\textbf{u}\\cdot\\textbf{v}}{||\\textbf{v}||^{2}}\\textbf{v} = \\frac{(1(3)-2(5)+4(1))}{(\\sqrt{35})^{2}}(3,5,1) = -\\frac{3}{35} = (-\\frac{9}{35},-\\frac{3}{7},-\\frac{3}{35})$"
   ]
  },
  {
   "cell_type": "markdown",
   "id": "8843d0e0-016c-4861-af5c-7c1d0b590be7",
   "metadata": {},
   "source": [
    "l. Find $proj(\\textbf{w},\\textbf{v})$."
   ]
  },
  {
   "cell_type": "markdown",
   "id": "696530ef-3984-4a53-bc3a-5a7e166c9258",
   "metadata": {},
   "source": [
    " &emsp;$ proj(\\textbf{w},\\textbf{v}) = \\frac{\\textbf{w}\\cdot\\textbf{v}}{||\\textbf{v}||^{2}}\\textbf{v} = \\frac{(2(3)+1(5)-3(1))}{(\\sqrt{35})^{2}}(3,5,1) = -\\frac{8}{35} = (\\frac{16}{35},\\frac{8}{35},-\\frac{24}{35})$"
   ]
  },
  {
   "cell_type": "markdown",
   "id": "bb8c7398-133c-4e62-a784-d67e05381ba8",
   "metadata": {},
   "source": [
    "m. Find $proj(\\textbf{u},\\textbf{w})$"
   ]
  },
  {
   "cell_type": "markdown",
   "id": "48b70fd8-b2cc-42bb-951e-ed6e1e6bcb16",
   "metadata": {},
   "source": [
    "&emsp;$ proj(\\textbf{u},\\textbf{w}) = \\frac{\\textbf{u}\\cdot\\textbf{w}}{||\\textbf{w}||^{2}}\\textbf{w} = \\frac{(1(2)-2(1)+4(-3))}{(\\sqrt{14})^{2}}(2,1,-3) = -\\frac{-12}{14} = (-\\frac{12}{7},-\\frac{6}{7},\\frac{18}{7})$."
   ]
  },
  {
   "cell_type": "markdown",
   "id": "67724187-0599-4b29-b894-29ad496ff951",
   "metadata": {},
   "source": [
    "# Pythonic Solution"
   ]
  },
  {
   "cell_type": "code",
   "execution_count": 1,
   "id": "53f17e2c-d0f3-4b5d-b88d-b9eaa579b8b7",
   "metadata": {},
   "outputs": [
    {
     "name": "stdout",
     "output_type": "stream",
     "text": [
      "a. 3u - 2v =  [ -3 -16  10]\n",
      "b. 5u + 3v -4w =  [ 6  1 35]\n",
      "c. u.v, v.w, u.w =  -3 ,  8 ,  -12\n",
      "d. ||u||, ||v||, ||w||=  4.58257569495584 ,  5.916079783099616 ,  3.7416573867739413\n",
      "e. cosθ = (u.v)/||u||||v||=  -0.11065666703449763\n",
      "f. cosα = (v.w)/||v||||w||=  0.36140316116210053\n",
      "g. cosβ = (u.w)/||u||||w||=  -0.6998542122237653\n",
      "h. d(u,v) =  7.874007874011811\n",
      "i. d(w,v) =  5.744562646538029\n",
      "j. d(u,w) =  7.681145747868608\n",
      "k. proj(u, v) [-0.25714286 -0.42857143 -0.08571429]\n",
      "l. proj(w, v) [0.68571429 1.14285714 0.22857143]\n",
      "m. proj(u, w) [-1.71428571 -0.85714286  2.57142857]\n"
     ]
    }
   ],
   "source": [
    "import numpy as np\n",
    "\n",
    "u = np.array([1, -2, 4])  \n",
    "v = np.array([3,5,1])  \n",
    "w = np.array([2,1,-3]) \n",
    "\n",
    "print(\"a. 3u - 2v = \", (3*u) - (2*v))\n",
    "print(\"b. 5u + 3v -4w = \", (5*u) + (3*v) - (4*w))\n",
    "print(\"c. u.v, v.w, u.w = \", u.dot(v),\", \", v.dot(w),\", \", u.dot(w))\n",
    "print(\"d. ||u||, ||v||, ||w||= \", np.sqrt(u.dot(u)),\", \", np.sqrt(v.dot(v)),\", \", np.sqrt(w.dot(w)))\n",
    "print(\"e. cosθ = (u.v)/||u||||v||= \", u.dot(v) / (np.linalg.norm(u) * np.linalg.norm(v)))\n",
    "print(\"f. cosα = (v.w)/||v||||w||= \", v.dot(w) / (np.linalg.norm(v) * np.linalg.norm(w)))\n",
    "print(\"g. cosβ = (u.w)/||u||||w||= \", u.dot(w) / (np.linalg.norm(u) * np.linalg.norm(w)))\n",
    "print(\"h. d(u,v) = \", np.linalg.norm(u-v))\n",
    "print(\"i. d(w,v) = \", np.linalg.norm(w-v))\n",
    "print(\"j. d(u,w) = \", np.linalg.norm(u-w))\n",
    "print(\"k. proj(u, v)\", u.dot(v)*v/(np.linalg.norm(v)**2))\n",
    "print(\"l. proj(w, v)\", w.dot(v)*v/(np.linalg.norm(v)**2))\n",
    "print(\"m. proj(u, w)\", u.dot(w)*w/(np.linalg.norm(w)**2))"
   ]
  },
  {
   "cell_type": "markdown",
   "id": "25e10bb5-1180-4a66-87a9-522b3ba3f22b",
   "metadata": {},
   "source": [
    "2. Repeat probelm 1 with the following column vectors:"
   ]
  },
  {
   "cell_type": "markdown",
   "id": "a2d46878-1564-4acd-9d3d-d7e8ff448fe4",
   "metadata": {},
   "source": [
    "$$\\textbf{u} =\\begin{bmatrix} 1\\\\3\\\\-4\\end{bmatrix}, \\textbf{v} = \\begin{bmatrix} 2\\\\1\\\\5\\end{bmatrix}, \\textbf{w} = \\begin{bmatrix} 3\\\\-2\\\\6\\end{bmatrix}$$"
   ]
  },
  {
   "cell_type": "markdown",
   "id": "58ef330a-87c9-4041-806b-fddd8291c400",
   "metadata": {},
   "source": [
    "# Manual Solution"
   ]
  },
  {
   "cell_type": "markdown",
   "id": "68164fea-0c2b-418e-b626-854206ef91f2",
   "metadata": {},
   "source": [
    "   a. $3u - 2v$\n",
    "\n",
    "   &emsp;$= 3[1,3,-4]^{T} - 2[2,1,5]^{T}$<br>\n",
    "&emsp;$= [3,9,-12]^{T} - [4,2,10]^{T}$<br>\n",
    "&emsp;$= [-1,7,-2]^{T}$"
   ]
  },
  {
   "cell_type": "markdown",
   "id": "6f78d3f5-4c9e-4a9d-811c-df85afd26930",
   "metadata": {},
   "source": [
    "b. $5u + 3v - 4w$\n",
    "\n",
    "&emsp;$= 5[1,3,-4]^{T} + 3[2,1,5]^{T} + 4[3,-2,6]^{T}$ <br>\n",
    "&emsp;$= [5,15,-20]^{T} + [6,3,15]^{T} + [12,8,-24]^{T}$<br>\n",
    "&emsp;$= [-1,10,-29]^{T}$"
   ]
  },
  {
   "cell_type": "markdown",
   "id": "c6fc0325-b0cb-44d6-a03a-91eff291b7d0",
   "metadata": {},
   "source": [
    "c. $u \\cdot v, v \\cdot w, u \\cdot w$\n",
    "\n",
    "&emsp;$u \\cdot v = 1(2)+-3(1)-4(5) = -15$<br>\n",
    "&emsp;$v \\cdot w = 2(3)+1(-2)+5(6) = 34$<br>\n",
    "&emsp;$u \\cdot w = 1(3)+3(-2)+4(6) = -27$"
   ]
  },
  {
   "cell_type": "markdown",
   "id": "d4e114f4-bb94-4633-b37a-7bcfe918ddfd",
   "metadata": {},
   "source": [
    "   d. $||\\textbf{u}||,||\\textbf{v}||, ||\\textbf{w}||$"
   ]
  },
  {
   "cell_type": "markdown",
   "id": "7f490785-85c0-4927-8061-f4ef11c7bc62",
   "metadata": {},
   "source": [
    "&emsp;$||\\textbf{u}|| = \\sqrt{(1)^{2}+(3)^{2}+(-4)^{2}} = \\sqrt{26}$<br>\n",
    "&emsp;$||\\textbf{v}|| = \\sqrt{(2)^{2}+(1)^{2}+(5)^{2}} = \\sqrt{30}$<br>\n",
    "&emsp;$||\\textbf{w}|| = \\sqrt{(3)^{2}+(-2)^{2}+(6)^{2}} = 7$<br>"
   ]
  },
  {
   "cell_type": "markdown",
   "id": "2fe708c8-4a06-4715-9e8c-101b15a51d62",
   "metadata": {},
   "source": [
    "   e. if $\\theta$ is the angle between $\\textbf{u}$ and $\\textbf{v}$, find $cos$ $\\theta$."
   ]
  },
  {
   "cell_type": "markdown",
   "id": "c1c876e5-4bd5-4e3a-b29b-2e4eda66c850",
   "metadata": {},
   "source": [
    " &emsp;$cos\\theta = \\frac{1(2)+3(1)-4(5)}{\\sqrt{(1)^{2}+(3)^{2}+(-4)^{2}}\\sqrt{(2)^{2}+(1)^{2}+(5)^{2}}} = \\frac{-15}{\\sqrt{26} \\sqrt{30}}$"
   ]
  },
  {
   "cell_type": "markdown",
   "id": "5f51e047-cec3-40f5-accb-5b86a4ae0d91",
   "metadata": {},
   "source": [
    "f. if $\\alpha$ is the angle between $\\textbf{v}$ and $\\textbf{w}$, find $cos$ $\\alpha$."
   ]
  },
  {
   "cell_type": "markdown",
   "id": "3d7c5866-46f2-4649-b6b1-8f55c00fde84",
   "metadata": {},
   "source": [
    "&emsp;$ cos\\alpha = \\frac{2(3)+1(-2)+5(6)}{\\sqrt{(2)^{2}+(1)^{2}+(5)^{2}}\\sqrt{(3)^{2}+(-2)^{2}+(6)^{2}}} = \\frac{34}{7 \\sqrt{30}}$"
   ]
  },
  {
   "cell_type": "markdown",
   "id": "5d93c885-bd60-4912-a000-aaa0f46bedd0",
   "metadata": {},
   "source": [
    "g. if $\\beta$ is the angle between $\\textbf{u}$ and $\\textbf{w}$, find $cos$ $\\beta$."
   ]
  },
  {
   "cell_type": "markdown",
   "id": "60d43ca7-d134-4e30-9d85-2b67e7a5d72e",
   "metadata": {},
   "source": [
    "&emsp;$ cos\\theta = \\frac{1(3)+3(-2)-4(6)}{\\sqrt{(1)^{2}+(3)^{2}+(-4)^{2}}\\sqrt{(3)^{2}+(-2)^{2}+(6)^{2}}} = \\frac{27}{7 \\sqrt{26}}$"
   ]
  },
  {
   "cell_type": "markdown",
   "id": "ba3079fc-640c-40e3-9d41-7868c30a862e",
   "metadata": {},
   "source": [
    "h. Find $d(\\textbf{u},\\textbf{v})$."
   ]
  },
  {
   "cell_type": "markdown",
   "id": "dcb10a4b-3343-4b4a-a33f-bb7592be750e",
   "metadata": {},
   "source": [
    "&emsp;$d(\\textbf{u},\\textbf{v}) = ||\\textbf{u}-\\textbf{v}|| = \\sqrt{(1-2)^{2}+(3-1)^{2}+(-4-5)^{2}} = \\sqrt{1+4+81} = \\sqrt{86}$"
   ]
  },
  {
   "cell_type": "markdown",
   "id": "01d9adb2-1429-4d56-a961-2ffce29ecc0a",
   "metadata": {},
   "source": [
    "i. Find $d(\\textbf{w},\\textbf{v})$."
   ]
  },
  {
   "cell_type": "markdown",
   "id": "931cb4f7-74dd-4b17-8abf-3e4832553221",
   "metadata": {},
   "source": [
    "&emsp;$d(\\textbf{w},\\textbf{v}) = ||\\textbf{w}-\\textbf{v}|| = \\sqrt{(3-1)^{2}+(-2-1)^{2}+(6-5)^{2}} = \\sqrt{1+9+1} = \\sqrt{11}$"
   ]
  },
  {
   "cell_type": "markdown",
   "id": "069f0209-f13a-4648-95e1-c7423aafb200",
   "metadata": {},
   "source": [
    "j. Find $d(\\textbf{u},\\textbf{w})$."
   ]
  },
  {
   "cell_type": "markdown",
   "id": "25f8c4fc-8ace-48c7-9631-f388280b4760",
   "metadata": {},
   "source": [
    "&emsp;$d(\\textbf{u},\\textbf{w}) = ||\\textbf{u}-\\textbf{w}|| = \\sqrt{(1-3)^{2}+(3-(-2))^{2}+(-4-6)^{2}} = \\sqrt{4+25+100} = \\sqrt{129}$"
   ]
  },
  {
   "cell_type": "markdown",
   "id": "f31b8eec-4ffe-4315-a58f-78f10ddb3577",
   "metadata": {},
   "source": [
    "k. Find $proj(\\textbf{u},\\textbf{v})$."
   ]
  },
  {
   "cell_type": "markdown",
   "id": "1958a094-0acb-4a43-8cdd-810d61b49833",
   "metadata": {},
   "source": [
    "&emsp;$ proj(\\textbf{u},\\textbf{v}) = \\frac{\\textbf{u}\\cdot\\textbf{v}}{||\\textbf{v}||^{2}}\\textbf{v} = \\frac{-15}{(\\sqrt{30})^{2}}(2,1,5) = -\\frac{1}{2}(2,1,5) = (-\\frac{2}{2},-\\frac{1}{2},-\\frac{5}{2})$"
   ]
  },
  {
   "cell_type": "markdown",
   "id": "76ac6b2b-c20d-417c-a54d-ecfff02401d8",
   "metadata": {},
   "source": [
    "l. Find $proj(\\textbf{w},\\textbf{v})$."
   ]
  },
  {
   "cell_type": "markdown",
   "id": "ffe538c8-2dce-460e-8ad6-d9e2d7755834",
   "metadata": {},
   "source": [
    " &emsp;$ proj(\\textbf{w},\\textbf{v}) = \\frac{\\textbf{w}\\cdot\\textbf{v}}{||\\textbf{v}||^{2}}\\textbf{v} = \\frac{34}{(\\sqrt{35})^{2}}(2,1,5) = -\\frac{17}{15}(2,1,5) = (\\frac{34}{15},\\frac{17}{15},\\frac{17}{3})$"
   ]
  },
  {
   "cell_type": "markdown",
   "id": "0d61ad7b-e407-47cb-a69c-7e41919f51ca",
   "metadata": {},
   "source": [
    "m. Find $proj(\\textbf{u},\\textbf{w})$"
   ]
  },
  {
   "cell_type": "markdown",
   "id": "77629777-cb6a-4826-a947-3c51bef26871",
   "metadata": {},
   "source": [
    "&emsp;$ proj(\\textbf{u},\\textbf{w}) = \\frac{\\textbf{u}\\cdot\\textbf{w}}{||\\textbf{w}||^{2}}\\textbf{w} = \\frac{-27}{(\\sqrt{7})^{2}}(3,-2,6) = -\\frac{-27}{49}(3,-2,6) = (-\\frac{81}{54},-\\frac{54}{49},-\\frac{162}{49})$."
   ]
  },
  {
   "cell_type": "markdown",
   "id": "1396530d-111e-4841-b8c3-153aae9c6ceb",
   "metadata": {},
   "source": [
    "# Pythonic Solution"
   ]
  },
  {
   "cell_type": "code",
   "execution_count": 2,
   "id": "67fbe5dc-d5ed-457e-8b89-052977ab4cfb",
   "metadata": {},
   "outputs": [
    {
     "name": "stdout",
     "output_type": "stream",
     "text": [
      "a. 3u - 2v:  [ -1   7 -22]\n",
      "b. 5u + 3v -4w:  [ -1  26 -29]\n",
      "c. u.v, v.w, u.w:  -15 ,  34 ,  -27\n",
      "d. ||u||, ||v||, ||w||:  5.0990195135927845 ,  5.477225575051661 ,  7.0\n",
      "e. cosθ = (u.v)/||u||||v||:  -0.5370861555295747\n",
      "f. cosα = (v.w)/||v||||w||:  0.8867889026274118\n",
      "g. cosβ = (u.w)/||u||||w||:  -0.7564479498187099\n",
      "h. d(u,v):  9.273618495495704\n",
      "i. d(w,v):  3.3166247903554\n",
      "j. d(u,w):  11.357816691600547\n",
      "k. proj(u, v) [-1.  -0.5 -2.5]\n",
      "l. proj(w, v) [2.26666667 1.13333333 5.66666667]\n",
      "m. proj(u, w) [-1.65306122  1.10204082 -3.30612245]\n"
     ]
    }
   ],
   "source": [
    "import numpy as np\n",
    "\n",
    "u = np.array([1, 3, -4]).T   \n",
    "v = np.array([2,1,5]).T  \n",
    "w = np.array([3,-2,6]).T  \n",
    "\n",
    "print(\"a. 3u - 2v: \", (3*u) - (2*v))\n",
    "print(\"b. 5u + 3v -4w: \", (5*u) + (3*v) - (4*w))\n",
    "print(\"c. u.v, v.w, u.w: \", u.dot(v),\", \", v.dot(w),\", \", u.dot(w))\n",
    "print(\"d. ||u||, ||v||, ||w||: \", np.sqrt(u.dot(u)),\", \", np.sqrt(v.dot(v)),\", \", np.sqrt(w.dot(w)))\n",
    "print(\"e. cosθ = (u.v)/||u||||v||: \", u.dot(v) / (np.linalg.norm(u) * np.linalg.norm(v)))\n",
    "print(\"f. cosα = (v.w)/||v||||w||: \", v.dot(w) / (np.linalg.norm(v) * np.linalg.norm(w)))\n",
    "print(\"g. cosβ = (u.w)/||u||||w||: \", u.dot(w) / (np.linalg.norm(u) * np.linalg.norm(w)))\n",
    "print(\"h. d(u,v): \", np.linalg.norm(u-v))\n",
    "print(\"i. d(w,v): \", np.linalg.norm(w-v))\n",
    "print(\"j. d(u,w): \", np.linalg.norm(u-w))\n",
    "print(\"k. proj(u, v)\", u.dot(v)*v/(np.linalg.norm(v)**2))\n",
    "print(\"l. proj(w, v)\", w.dot(v)*v/(np.linalg.norm(v)**2))\n",
    "print(\"m. proj(u, w)\", u.dot(w)*w/(np.linalg.norm(w)**2))"
   ]
  }
 ],
 "metadata": {
  "kernelspec": {
   "display_name": "Python 3",
   "language": "python",
   "name": "python3"
  },
  "language_info": {
   "codemirror_mode": {
    "name": "ipython",
    "version": 3
   },
   "file_extension": ".py",
   "mimetype": "text/x-python",
   "name": "python",
   "nbconvert_exporter": "python",
   "pygments_lexer": "ipython3",
   "version": "3.11.5"
  }
 },
 "nbformat": 4,
 "nbformat_minor": 5
}
