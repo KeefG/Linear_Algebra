{
 "cells": [
  {
   "cell_type": "markdown",
   "id": "d493e085-72c7-4674-b1e8-de481a57b0f1",
   "metadata": {},
   "source": [
    "# <font color=red> CODE CHALLENGES </font>\n",
    "---\n",
    "### Instruction\n",
    "1. Push your solutions to your github account.\n",
    "3. Deadline is before finals.\n",
    "---"
   ]
  },
  {
   "cell_type": "markdown",
   "id": "ed98c99a-7529-47b1-9cf2-8f4e7c3c2554",
   "metadata": {},
   "source": [
    "1. Without the use of any python libraries or modules, develop a function that can perform matrix addition, given two numpy matrices."
   ]
  },
  {
   "cell_type": "code",
   "execution_count": 21,
   "id": "6bd063e4-020b-4cbb-abc4-82207c44f7e0",
   "metadata": {},
   "outputs": [
    {
     "name": "stdout",
     "output_type": "stream",
     "text": [
      "Matrix:\n",
      "\n",
      "A:\n",
      "[1, 2, 3]\n",
      "[4, 5, 6]\n",
      "[7, 8, 9]\n",
      "\n",
      "B:\n",
      "[9, 8, 7]\n",
      "[6, 5, 4]\n",
      "[3, 2, 1]\n",
      "\n",
      "Addition Function\n",
      "[10, 10, 10]\n",
      "[10, 10, 10]\n",
      "[10, 10, 10]\n"
     ]
    }
   ],
   "source": [
    "def matrix_Add(A, B):\n",
    "    result_matrix = []\n",
    "\n",
    "    if len(A) != len(B) or any(len(A[col]) != len(B[col]) for col in range(len(A))):\n",
    "        print(\"Dimensions are not suitable!\")\n",
    "        return None\n",
    "\n",
    "    for col in range(len(A)):\n",
    "        row_result = []\n",
    "        for row in range(len(A[col])):\n",
    "            row_result.append(A[col][row] + B[col][row])\n",
    "        result_matrix.append(row_result)\n",
    "\n",
    "    return result_matrix\n",
    "\n",
    "matrix_A = [[1, 2, 3], [4, 5, 6], [7, 8, 9]]\n",
    "matrix_B = [[9, 8, 7], [6, 5, 4], [3, 2, 1]]\n",
    "\n",
    "matrix_sum = matrix_Add(matrix_A, matrix_B)\n",
    "\n",
    "print(\"Matrix:\")\n",
    "print(\"\\nA:\")\n",
    "for col in matrix_A:\n",
    "    print(col)\n",
    "print(\"\\nB:\")\n",
    "for col in matrix_B:\n",
    "    print(col)\n",
    "\n",
    "print(\"\\nAddition Function\")\n",
    "for col in matrix_sum:\n",
    "    print(col)"
   ]
  },
  {
   "cell_type": "markdown",
   "id": "e05c12bf-fab5-4405-bc88-91485693ef65",
   "metadata": {},
   "source": [
    "2. Without the use of any python libraries or modules, develop a function that can multiply two numpy matrices."
   ]
  },
  {
   "cell_type": "code",
   "execution_count": 24,
   "id": "9eb51ec1-749f-4a85-b730-6743bc3b456f",
   "metadata": {},
   "outputs": [
    {
     "name": "stdout",
     "output_type": "stream",
     "text": [
      "Matrix:\n",
      "\n",
      "A:\n",
      "[1, 3]\n",
      "[2, -1]\n",
      "\n",
      "B:\n",
      "[2, 0, -4]\n",
      "[5, -2, 6]\n",
      "\n",
      "Multiplication Function\n",
      "[17, -6, 14]\n",
      "[-1, 2, -14]\n"
     ]
    }
   ],
   "source": [
    "\n",
    "def matrix_Multiply(A,B):\n",
    "    result_matrix = []\n",
    "\n",
    "    if any(len(A[col]) != len(B) for col in range(len(A))):\n",
    "        print(\"Dimensions are not suitable!\")\n",
    "        return None\n",
    "\n",
    "    # A = nxm B=mxp\n",
    "    \n",
    "    for n in range(len(A)):\n",
    "        row_result = []\n",
    "        for p in range(len(B[0])):\n",
    "            value = 0\n",
    "            for m in range(len(B)):\n",
    "                value += A[n][m] * B[m][p]\n",
    "\n",
    "            row_result.append(value)\n",
    "        result_matrix.append(row_result)\n",
    "\n",
    "    return result_matrix\n",
    "\n",
    "\n",
    "\n",
    "\n",
    "matrix_A = [[1,3],[2,-1]]\n",
    "matrix_B = [[2,0,-4],[5,-2,6]]\n",
    "\n",
    "print(\"Matrix:\")\n",
    "print(\"\\nA:\")\n",
    "for col in matrix_A:\n",
    "    print(col)\n",
    "print(\"\\nB:\")\n",
    "for col in matrix_B:\n",
    "    print(col)\n",
    "\n",
    "matrix_product = matrix_Multiply(matrix_A, matrix_B)\n",
    "\n",
    "print(\"\\nMultiplication Function\")\n",
    "for col in matrix_product:\n",
    "    print(col)\n"
   ]
  },
  {
   "cell_type": "markdown",
   "id": "955e65b6-965e-4486-b4fe-7529b915b4fb",
   "metadata": {},
   "source": [
    "3. The rule of distributivity states that given two matrices $A$ and $B$ and a scalar, $k$, then $k(A+B)=kA+kB$. Instead of writing a proof mathematically, develop two codes for $k(A+B)$ and $kA+kB$.|"
   ]
  },
  {
   "cell_type": "code",
   "execution_count": 32,
   "id": "638195b4-258c-46ad-b7da-989e2227bafb",
   "metadata": {},
   "outputs": [
    {
     "name": "stdout",
     "output_type": "stream",
     "text": [
      "Matrix:\n",
      "\n",
      "A:\n",
      "[1, 2]\n",
      "[3, 4]\n",
      "\n",
      "B:\n",
      "[5, 6]\n",
      "[7, 8]\n",
      "\n",
      "k(A + B):\n",
      "[18, 24]\n",
      "[30, 36]\n",
      "\n",
      "kA + kB:\n",
      "[3, 6] [15, 18]\n",
      "[9, 12] [21, 24]\n"
     ]
    }
   ],
   "source": [
    "def scalar_multiply_and_add(scalar, matrix_A, matrix_B):\n",
    "    result_sum = []\n",
    "\n",
    "    for i in range(len(matrix_A)):\n",
    "        row_sum = []\n",
    "        for j in range(len(matrix_A[0])):\n",
    "            element_sum = scalar * (matrix_A[i][j] + matrix_B[i][j])\n",
    "            row_sum.append(element_sum)\n",
    "        result_sum.append(row_sum)\n",
    "\n",
    "    return result_sum\n",
    "\n",
    "def scalar_multiply_matrices_then_add(scalar, matrix_A, matrix_B):\n",
    "    result_A = []\n",
    "    result_B = []\n",
    "\n",
    "    for i in range(len(matrix_A)):\n",
    "        row_A = [scalar * element for element in matrix_A[i]]\n",
    "        row_B = [scalar * element for element in matrix_B[i]]\n",
    "        \n",
    "        result_A.append(row_A)\n",
    "        result_B.append(row_B)\n",
    "\n",
    "    return result_A, result_B\n",
    "\n",
    "matrix_A = [[1, 2], [3, 4]]\n",
    "matrix_B = [[5, 6], [7, 8]]\n",
    "scalar_k = 3\n",
    "\n",
    "result_sum = scalar_multiply_and_add(scalar_k, matrix_A, matrix_B)\n",
    "\n",
    "print(\"Matrix:\")\n",
    "print(\"\\nA:\")\n",
    "for col in matrix_A:\n",
    "    print(col)\n",
    "print(\"\\nB:\")\n",
    "for col in matrix_B:\n",
    "    print(col)\n",
    "\n",
    "print(\"\\nk(A + B):\")\n",
    "for row in result_sum:\n",
    "    print(row)\n",
    "\n",
    "result_matrices = scalar_multiply_matrices_then_add(scalar_k, matrix_A, matrix_B)\n",
    "print(\"\\nkA + kB:\")\n",
    "for row_A, row_B in zip(*result_matrices):\n",
    "    print(row_A, row_B)\n"
   ]
  },
  {
   "cell_type": "markdown",
   "id": "7686d1c3-baf4-4925-83b7-65e5791a88bd",
   "metadata": {},
   "source": [
    "4. Without using a python library or modules develop a function that can extract the diagonal of a numpy matrix."
   ]
  },
  {
   "cell_type": "code",
   "execution_count": 26,
   "id": "9f4ffb11-5895-4aa2-81e5-29dae32a393c",
   "metadata": {},
   "outputs": [
    {
     "name": "stdout",
     "output_type": "stream",
     "text": [
      "Matix:\n",
      "[1, 2, 3]\n",
      "[4, 5, 6]\n",
      "[7, 8, 9]\n",
      "\n",
      "Diagonal Elements:\n",
      "[1, 5, 9]\n"
     ]
    }
   ],
   "source": [
    "def extract_diagonal(matrix):\n",
    "    if not matrix:\n",
    "        print(\"Matrix is empty.\")\n",
    "        return []\n",
    "\n",
    "    rows, cols = len(matrix), len(matrix[0])\n",
    "\n",
    "    if rows != cols:\n",
    "        print(\"Matrix is not square. Diagonal extraction is not possible.\")\n",
    "        return []\n",
    "\n",
    "    diagonal_elements = [matrix[i][i] for i in range(rows)]\n",
    "    return diagonal_elements\n",
    "\n",
    "matrix = [[1, 2, 3],[4, 5, 6],[7, 8, 9]]\n",
    "\n",
    "diagonal_elements = extract_diagonal(matrix)\n",
    "\n",
    "print(\"Matix:\")\n",
    "for col in matrix:\n",
    "    print(col)\n",
    "\n",
    "print(\"\\nDiagonal Elements:\")\n",
    "print(diagonal_elements)\n"
   ]
  },
  {
   "cell_type": "markdown",
   "id": "3113dd8d-fcdf-4b4f-b87b-4ef4fb7214d0",
   "metadata": {},
   "source": [
    "5. Without using a python library or modules develop a function that can find a trace of a numpy matrix."
   ]
  },
  {
   "cell_type": "code",
   "execution_count": 28,
   "id": "5c3f1dae-45b1-4a21-b6d3-b80908d12574",
   "metadata": {},
   "outputs": [
    {
     "name": "stdout",
     "output_type": "stream",
     "text": [
      "Matix:\n",
      "[1, 2, 3]\n",
      "[4, 5, 6]\n",
      "[7, 8, 9]\n",
      "\n",
      "Trace of the Matrix:\n",
      "15\n"
     ]
    }
   ],
   "source": [
    "def matrix_trace(matrix):\n",
    "    if not matrix:\n",
    "        print(\"Matrix is empty.\")\n",
    "        return 0.0\n",
    "\n",
    "    rows, cols = len(matrix), len(matrix[0])\n",
    "\n",
    "    if rows != cols:\n",
    "        print(\"Matrix is not square. Trace is not defined.\")\n",
    "        return 0.0\n",
    "\n",
    "    trace = sum(matrix[i][i] for i in range(rows))\n",
    "    return trace\n",
    "\n",
    "example_matrix = [[1, 2, 3],\n",
    "                  [4, 5, 6],\n",
    "                  [7, 8, 9]]\n",
    "\n",
    "trace_value = matrix_trace(example_matrix)\n",
    "\n",
    "print(\"Matix:\")\n",
    "for col in matrix:\n",
    "    print(col)\n",
    "\n",
    "print(\"\\nTrace of the Matrix:\")\n",
    "print(trace_value)\n"
   ]
  },
  {
   "cell_type": "markdown",
   "id": "178b7a79-e98c-47f2-8573-dbea030ce9de",
   "metadata": {},
   "source": [
    "# <font color=red> Problem Solving </font>\n",
    "---\n",
    "Instructions\n",
    "1. Write your solution in latex.\n",
    "2. Push your solutions to your github account.\n",
    "3. Deadline is before finals."
   ]
  },
  {
   "cell_type": "markdown",
   "id": "7d4cb6dc-8bae-4be4-830d-a399bc0154cf",
   "metadata": {},
   "source": [
    "1. Solve $X$ given that:\n",
    "\\begin{equation}\n",
    "A =\n",
    "\\begin{bmatrix}\n",
    "1 & 2 \\\\\n",
    "3 & 4 \\\\\n",
    "\\end{bmatrix},\n",
    "B =\n",
    "\\begin{bmatrix}\n",
    "-1 & 0 \\\\\n",
    "1 & 1 \\\\\n",
    "\\end{bmatrix}\n",
    "\\end{equation}\n",
    "- $3X = A-2B$"
   ]
  },
  {
   "cell_type": "markdown",
   "id": "d7df36a9-979d-4da5-8a78-e7521a71e38f",
   "metadata": {},
   "source": [
    "$ X = \\frac{1}{3}(A-2B)$\n",
    "\n",
    "$ X = \\frac{1}{3}\\left(\\begin{bmatrix}\n",
    "1 & 2 \\\\\n",
    "3 & 4 \\\\\\end{bmatrix} - 2\n",
    "\\begin{bmatrix}\n",
    "-1 & 0 \\\\\n",
    "1 & 1 \\\\\\end{bmatrix}\\right)$\n",
    "\n",
    "$ X = \\frac{1}{3}\\left(\\begin{bmatrix} 1 & 2 \\\\ 3 & 4 \\end{bmatrix} + \\begin{bmatrix} 2 & 0 \\\\ -2 & -2 \\end{bmatrix}\\right)$\n",
    "\n",
    "$ X = \\frac{1}{3}\\begin{bmatrix} 3 & 2 \\\\ 1 & 2 \\end{bmatrix}$\n",
    "\n",
    "$X = \\begin{bmatrix} 1 & \\frac{2}{3} \\\\ \\frac{1}{3} & \\frac{2}{3} \\end{bmatrix}$\n",
    "\n",
    "Solution\n",
    "\n",
    "$X = \\begin{bmatrix} 1 & \\frac{2}{3} \\\\ \\frac{1}{3} & \\frac{2}{3} \\end{bmatrix}$"
   ]
  },
  {
   "cell_type": "code",
   "execution_count": 40,
   "id": "5f9df5bc-57ea-4bfe-999c-0c92ff6dfc4a",
   "metadata": {},
   "outputs": [
    {
     "name": "stdout",
     "output_type": "stream",
     "text": [
      "Given Matrix:\n",
      "\n",
      "A:\n",
      "[1 2]\n",
      "[3 4]\n",
      "\n",
      "B:\n",
      "[-1  0]\n",
      "[1 1]\n",
      "\n",
      "Matrix X:\n",
      "[[1.         0.66666667]\n",
      " [0.33333333 0.66666667]]\n"
     ]
    }
   ],
   "source": [
    "import numpy as np\n",
    "\n",
    "# Given matrices\n",
    "A = np.array([[1, 2], [3, 4]])\n",
    "B = np.array([[-1, 0], [1, 1]])\n",
    "\n",
    "# Solve for X: 3X = A - 2B\n",
    "X = (1/3) * (A - 2 * B)\n",
    "\n",
    "print(\"Given Matrix:\")\n",
    "print(\"\\nA:\")\n",
    "for col in A:\n",
    "    print(col)\n",
    "\n",
    "print(\"\\nB:\")\n",
    "for col in B:\n",
    "    print(col)\n",
    "\n",
    "# Display the result\n",
    "print(\"\\nMatrix X:\")\n",
    "print(X)\n"
   ]
  },
  {
   "cell_type": "markdown",
   "id": "b4f9531d-96ea-4c45-9756-124bf3f83420",
   "metadata": {},
   "source": [
    "- $2(A-B+2X) = 3(X-B)$"
   ]
  },
  {
   "cell_type": "markdown",
   "id": "a0051155-1e30-480f-a100-a31c6eb994b0",
   "metadata": {},
   "source": [
    "Distribute\n",
    "\n",
    "$2A - 2B + 4X = 3X - 3B$\n",
    "\n",
    "$2A + 2B - 3X = -3B - 4X$\n",
    "\n",
    "$2A + 2B + 4X = -3B$\n",
    "\n",
    "$2A + 2B + 4X = -3B$\n",
    "\n",
    "$4X = -3B - 2A - 2B$\n",
    "\n",
    "$4X = -2A - 5B$\n",
    "\n",
    "$X = \\frac{-2A - 5B}{4}$\n",
    "\n",
    "Substitute\n",
    "\n",
    "$X = \\frac{-2 \\begin{bmatrix}1 & 2 \\\\ 3 & 4 \\end{bmatrix} - 5 \\begin{bmatrix}-1 & 0 \\\\ 1 & 1 \\end{bmatrix}}{4}$\n",
    "\n",
    "$X = \\frac{\\begin{bmatrix}-2 & -4 \\\\ -6 & -8 \\end{bmatrix} - \\begin{bmatrix}-5 & 0 \\\\ 5 & 5 \\end{bmatrix}}{4}$\n",
    "\n",
    "$X = \\frac{\\begin{bmatrix}3 & -4 \\\\ -1 & -13 \\end{bmatrix}}{4}$\n",
    "\n",
    "$X = \\begin{bmatrix} \\frac{3}{4} & -1 \\\\ -\\frac{1}{4} & -\\frac{13}{4} \\end{bmatrix}$\n",
    "\n",
    "Solution\n",
    "\n",
    "$X = \\begin{bmatrix} \\frac{3}{4} & -1 \\\\ -\\frac{1}{4} & -\\frac{13}{4} \\end{bmatrix}$"
   ]
  },
  {
   "cell_type": "code",
   "execution_count": 42,
   "id": "307ab3fe-c649-4a27-84fb-81c8704a98e8",
   "metadata": {},
   "outputs": [
    {
     "name": "stdout",
     "output_type": "stream",
     "text": [
      "Given Matrix:\n",
      "\n",
      "A:\n",
      "[1 2]\n",
      "[3 4]\n",
      "\n",
      "B:\n",
      "[-1  0]\n",
      "[1 1]\n",
      "\n",
      "Solution for X:\n",
      "[[ 0.75 -1.  ]\n",
      " [-2.75 -3.25]]\n"
     ]
    }
   ],
   "source": [
    "import numpy as np\n",
    "\n",
    "# Given matrices A and B\n",
    "A = np.array([[1, 2], [3, 4]])\n",
    "B = np.array([[-1, 0], [1, 1]])\n",
    "\n",
    "# Solve for X\n",
    "X = (-2 * A - 5 * B) / 4\n",
    "\n",
    "print(\"Given Matrix:\")\n",
    "print(\"\\nA:\")\n",
    "for col in A:\n",
    "    print(col)\n",
    "\n",
    "print(\"\\nB:\")\n",
    "for col in B:\n",
    "    print(col)\n",
    "\n",
    "print(\"\\nSolution for X:\")\n",
    "print(X)\n"
   ]
  }
 ],
 "metadata": {
  "kernelspec": {
   "display_name": "Python 3",
   "language": "python",
   "name": "python3"
  },
  "language_info": {
   "codemirror_mode": {
    "name": "ipython",
    "version": 3
   },
   "file_extension": ".py",
   "mimetype": "text/x-python",
   "name": "python",
   "nbconvert_exporter": "python",
   "pygments_lexer": "ipython3",
   "version": "3.11.5"
  }
 },
 "nbformat": 4,
 "nbformat_minor": 5
}
