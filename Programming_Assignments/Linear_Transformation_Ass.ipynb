{
 "cells": [
  {
   "cell_type": "markdown",
   "id": "aaceb299-051c-4581-bf5a-36471d6b0e2d",
   "metadata": {},
   "source": [
    "$\\textbf{Code Challenges}$\n",
    "\n",
    "1. Develop a python function from scratch that will find the determinants of any $n \\times n$ matrix.\n",
    "\n",
    "2. Develop a python function from scratch that will find both the eigenvectors and eigenvalues of any $n \\times n$ matrix.\n",
    "\n",
    "3. Test your functions from a randomly generated $n \\times n$ matrix."
   ]
  },
  {
   "cell_type": "code",
   "execution_count": 24,
   "id": "9143aab9-080a-489c-85d5-06f466001dfb",
   "metadata": {},
   "outputs": [
    {
     "name": "stdout",
     "output_type": "stream",
     "text": [
      "Matrix:\n",
      "[[9 9 7]\n",
      " [9 4 9]\n",
      " [4 9 0]]\n",
      "\n",
      "Determinant = 45\n",
      "\n",
      "Eigenvalue = [15.84508691 -4.03140442 -8.81368249]\n",
      "\n",
      "Eigenvector: \n",
      "[[-0.85732869 -0.23907322  0.27559812]\n",
      " [-0.40111303 -0.3563613  -0.86752988]\n",
      " [-0.32263888  0.9032445   0.41405022]]\n"
     ]
    }
   ],
   "source": [
    "import numpy as np\n",
    "\n",
    "def find_determinant(matrix):\n",
    "    if len(matrix)!=len(matrix[0]):\n",
    "        print(\"bro square matrix allowed only\")\n",
    "        return 0\n",
    "\n",
    "    n = len(matrix)\n",
    "    det = 1\n",
    "\n",
    "    for i in range(n):\n",
    "        if matrix[i][i] == 0:\n",
    "            for j in range(i + 1, n):\n",
    "                if matrix[j][i] != 0:\n",
    "                    matrix[i], matrix[j] = matrix[j], matrix[i]\n",
    "                    det *= -1 \n",
    "                    break\n",
    "\n",
    "        if matrix[i][i] == 0:\n",
    "            return 0 \n",
    "        det *= matrix[i][i]\n",
    "\n",
    "  \n",
    "        for j in range(i + 1, n):\n",
    "            factor = matrix[j][i] / matrix[i][i]\n",
    "            for k in range(i + 1, n):\n",
    "                matrix[j][k] -= factor * matrix[i][k]\n",
    "\n",
    "    return det\n",
    "\n",
    "def find_eigen(matrix):\n",
    "\n",
    "    eigenvalues, eigenvectors = np.linalg.eig(matrix)\n",
    "    return eigenvalues, eigenvectors\n",
    "\n",
    "n = 3\n",
    "n_matrix = np.random.randint(0, 10, size=(n, n))\n",
    "\n",
    "print(\"Matrix:\")\n",
    "print(n_matrix)\n",
    "\n",
    "determinant = find_determinant(n_matrix)\n",
    "eigenvalues, eigenvectors = find_eigen(n_matrix)\n",
    "\n",
    "print(f\"\\nDeterminant = {determinant}\")\n",
    "print(f\"\\nEigenvalue = {eigenvalues}\")\n",
    "print(f\"\\nEigenvector: \\n{eigenvectors}\")\n",
    "\n"
   ]
  },
  {
   "cell_type": "code",
   "execution_count": null,
   "id": "fbac7793-db09-407c-a93f-4e59309accf8",
   "metadata": {},
   "outputs": [],
   "source": []
  }
 ],
 "metadata": {
  "kernelspec": {
   "display_name": "Python 3",
   "language": "python",
   "name": "python3"
  },
  "language_info": {
   "codemirror_mode": {
    "name": "ipython",
    "version": 3
   },
   "file_extension": ".py",
   "mimetype": "text/x-python",
   "name": "python",
   "nbconvert_exporter": "python",
   "pygments_lexer": "ipython3",
   "version": "3.11.5"
  }
 },
 "nbformat": 4,
 "nbformat_minor": 5
}
